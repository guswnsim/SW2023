{
  "nbformat": 4,
  "nbformat_minor": 0,
  "metadata": {
    "colab": {
      "private_outputs": true,
      "provenance": []
    },
    "kernelspec": {
      "name": "python3",
      "display_name": "Python 3"
    },
    "language_info": {
      "name": "python"
    }
  },
  "cells": [
    {
      "cell_type": "markdown",
      "source": [
        "#cv2 라이브러리를 이용해서 이미지의 테두리만 추출하는 코드를 작성#\n"
      ],
      "metadata": {
        "id": "YJ1FHhfo1L0m"
      }
    },
    {
      "cell_type": "markdown",
      "source": [
        "#먼저 drive.mount를 이용해서 구글 드라이브와 연동하여 파일을 읽고 쓸 수 있도록 한다.#\n"
      ],
      "metadata": {
        "id": "JZPNsRB91d8h"
      }
    },
    {
      "cell_type": "code",
      "execution_count": null,
      "metadata": {
        "id": "snjgrJyBvpfj"
      },
      "outputs": [],
      "source": [
        "from google.colab import drive\n",
        "drive.mount('/content/drive')"
      ]
    },
    {
      "cell_type": "markdown",
      "source": [
        "#필요한 라이브러리들을 import한다.\n",
        "#3번째줄 코드는 Google Colab 환경에서 OpenCV의 cv2.imshow 함수를 대체하는 것이다.\n"
      ],
      "metadata": {
        "id": "6gnkt-O11_D6"
      }
    },
    {
      "cell_type": "code",
      "source": [
        "import numpy as np\n",
        "import cv2\n",
        "from google.colab.patches import cv2_imshow\n",
        "import matplotlib.pyplot as plt"
      ],
      "metadata": {
        "id": "kipdrY5qvrOD"
      },
      "execution_count": null,
      "outputs": []
    },
    {
      "cell_type": "markdown",
      "source": [
        "#이미지의 경로를 추출하여 이미지를 불러온다."
      ],
      "metadata": {
        "id": "dUYh9AFg2PfD"
      }
    },
    {
      "cell_type": "code",
      "source": [
        "image = cv2.imread('/content/drive/MyDrive/빵빵아 옥지얌.jpg')"
      ],
      "metadata": {
        "id": "2I6tKdfvvzFB"
      },
      "execution_count": null,
      "outputs": []
    },
    {
      "cell_type": "markdown",
      "source": [
        "#코드 설명\n",
        "python OpenCV 라이브러리를 사용하였습니다.\n",
        "\n",
        "\n",
        "\n",
        "cv2.Canny(src, min_threshold, max_threshold)\n",
        "\n",
        "1) src : 바꾸고 싶은 source 이미지\n",
        "\n",
        "2) min_threshold : 최소 임계값\n",
        "\n",
        "3) max_threshold : 최대 임계값\n",
        "\n",
        "plt.subplot(1,2,1): Matplotlib의 subplot 함수를 사용하여 화면을 1행 2열의 그리드로 나눕니다. 그 중 첫 번째 위치에 원본 이미지를 표시할 서브플롯을 생성합니다.\n",
        "\n",
        "plt.imshow(image, cmap='gray'): 첫 번째 서브플롯에 원본 이미지를 그레이스케일로 표시.\n",
        "\n",
        "plt.subplot(1,2,2): 두 번째 위치에 엣지 검출 결과를 표시할 서브플롯을 생성합니다.\n",
        "\n",
        "plt.imshow(output, cmap='gray'): 두 번째 서브플롯에 Canny 엣지 검출 결과를 표시.\n",
        "\n",
        "plt.show(): 시각화된 이미지를 표시합니다.\n",
        "\n",
        "이렇게 하면 원본 이미지와 해당 이미지의 Canny 엣지 검출 결과가 나란히 표시된 차트가 생성됩니다. 첫 번째 열은 원본 이미지이고, 두 번째 열은 Canny 엣지 검출 결과입니다."
      ],
      "metadata": {
        "id": "6_GnjIrh2PCM"
      }
    },
    {
      "cell_type": "code",
      "source": [
        "output = cv2.Canny(image, 70, 150)\n",
        "\n",
        "plt.subplot(1,2,1)\n",
        "plt.title('Original')\n",
        "plt.axis('off')\n",
        "plt.imshow(image,cmap='gray')\n",
        "\n",
        "plt.subplot(1,2,2)\n",
        "plt.title('Edge Detection')\n",
        "plt.axis('off')\n",
        "plt.imshow(output, cmap='gray')\n",
        "\n",
        "plt.show()"
      ],
      "metadata": {
        "id": "WoyFL6DWx3NS"
      },
      "execution_count": null,
      "outputs": []
    }
  ]
}